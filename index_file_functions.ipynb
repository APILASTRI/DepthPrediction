{
 "metadata": {
  "name": "",
  "signature": "sha256:16462f4e3d2e7198a9ec0e0ba5e7c8fcfbffd1f44aff8449d86eb5032c818f4f"
 },
 "nbformat": 3,
 "nbformat_minor": 0,
 "worksheets": [
  {
   "cells": [
    {
     "cell_type": "code",
     "collapsed": false,
     "input": [
      "# Parse an existing index file, create one with uniform distribution of training examples\n",
      "\n",
      "\n",
      "# Import and setup:\n",
      "import numpy as np\n",
      "import scipy as sp\n",
      "import csv\n",
      "import matplotlib.pyplot as plt\n",
      "import sys\n",
      "import caffe\n",
      "from image_handling import load_dataset\n",
      "from image_handling import segment_image\n",
      "from image_handling import preprocess_image\n",
      "from image_handling import apply_depths\n",
      "caffe.set_mode_gpu()\n",
      "\n",
      "%matplotlib inline\n",
      "%load_ext autoreload\n",
      "%autoreload 2\n",
      "\n",
      "def load_csv(path):\n",
      "    \"\"\" \n",
      "    returns a dict from a CSV of format:\n",
      "        /a/abbey 0\n",
      "        /a/airport_terminal 1\n",
      "        /a/alley 2\n",
      "        etc\n",
      "    \"\"\"\n",
      "    f = open(path)\n",
      "    csvf = csv.reader(f)\n",
      "    labels = {}\n",
      "    for row in csvf:\n",
      "        tmp = row[0].split(' ',1)\n",
      "        labels[int(tmp[1])] = tmp[0]\n",
      "    f.close()\n",
      "    \n",
      "    return labels\n",
      "\n",
      "# take an array of shape (n, height, width) or (n, height, width, channels)\n",
      "#  and visualize each (height, width) thing in a grid of size approx. sqrt(n) by sqrt(n)\n",
      "def vis_square(data, padsize=1, padval=0):\n",
      "    data -= data.min()\n",
      "    data /= data.max()\n",
      "    \n",
      "    # force the number of filters to be square\n",
      "    n = int(np.ceil(np.sqrt(data.shape[0])))\n",
      "    padding = ((0, n ** 2 - data.shape[0]), (0, padsize), (0, padsize)) + ((0, 0),) * (data.ndim - 3)\n",
      "    data = np.pad(data, padding, mode='constant', constant_values=(padval, padval))\n",
      "    \n",
      "    # tile the filters into an image\n",
      "    data = data.reshape((n, n) + data.shape[1:]).transpose((0, 2, 1, 3) + tuple(range(4, data.ndim + 1)))\n",
      "    data = data.reshape((n * data.shape[1], n * data.shape[3]) + data.shape[4:])\n",
      "    \n",
      "    plt.imshow(data)\n",
      "    \n"
     ],
     "language": "python",
     "metadata": {},
     "outputs": [],
     "prompt_number": 2
    },
    {
     "cell_type": "code",
     "collapsed": false,
     "input": [
      "import random\n",
      "inp_file = 'train/NYUv2/test_full_167_v2/index_16_fullpath.txt'\n",
      "out_file = 'train/NYUv2/test_full_167_v2/index_16_norm_randomized.txt'\n",
      "rows = []\n",
      "labels = {}\n",
      "\n",
      "ind = 0\n",
      "grid = np.loadtxt(inp_file,dtype='string')\n",
      "\n",
      "depths = grid[:,1].astype('int64')\n",
      "print \"depths is\", depths\n",
      "print \"Total Depths\", depths.shape\n",
      "counts = np.bincount(depths)[1:]\n",
      "#print np.argmin(counts)\n",
      "#print counts\n",
      "\n",
      "total_per_bin = counts[np.argmin(counts)]\n",
      "print \"Minimum count\", total_per_bin\n",
      "print counts\n",
      "\n",
      "total_per_bin = counts[np.argmax(counts)]\n",
      "# a = np.arange(1,10)\n",
      "# print a\n",
      "# print np.random.choice(a,20)\n",
      "# print np.unique(np.random.choice(a,11))\n",
      "\n",
      "# f = open(out_file,'w')\n",
      "# for ind in np.unique(depths):\n",
      "#     tmp_set = grid[depths == ind]\n",
      "#     for r in xrange(0,total_per_bin):\n",
      "#         #print grid[r,:]\n",
      "#         f.write(str(tmp_set[r,0]) + ' ' + str(tmp_set[r,1]) + '\\n')\n",
      "# f.close()\n",
      "    \n",
      "f = open(out_file,'w')\n",
      "for label in np.unique(depths):\n",
      "    tmp_set = grid[depths==label]\n",
      "    # Select total_per_bin values randomly from tmp_set\n",
      "    for r in np.random.choice(np.arange(0,tmp_set.shape[0]),total_per_bin):\n",
      "        #print grid[r,:]\n",
      "        f.write(str(tmp_set[r,0]) + ' ' + str(tmp_set[r,1]) + '\\n')\n",
      "f.close()\n",
      "    \n",
      "    "
     ],
     "language": "python",
     "metadata": {},
     "outputs": [
      {
       "output_type": "stream",
       "stream": "stdout",
       "text": [
        "depths is [9 9 9 ..., 6 6 6]\n",
        "Total Depths (125568,)\n",
        "Minimum count 624\n",
        "[ 1361  2064  3483  5973  8960 12851 16677 17659 18297 14778  9158  6719\n",
        "  3916  2054   994   624]\n"
       ]
      }
     ],
     "prompt_number": 59
    },
    {
     "cell_type": "code",
     "collapsed": false,
     "input": [
      "# Plot histograms of depths in a dataset:\n",
      "\n",
      "in_file = 'train/NYUv2/test_full_167_v2/index_16_norm_randomized.txt'\n",
      "\n",
      "\n",
      "import csv\n",
      "\n",
      "f = open(in_file,'r')\n",
      "depths = []\n",
      "csvf = csv.reader(f)\n",
      "paths = []\n",
      "for row in csvf:\n",
      "    tmp = row[0].split(' ',1)\n",
      "    depths.append(tmp[1])\n",
      "    paths.append(tmp[0])\n",
      "print np.unique(depths)\n",
      "print \"total lines: \", len(depths)\n",
      "print \"total lines per class:\", len(depths)/len(np.unique(depths))\n",
      "print np.unique(paths).shape\n",
      "plt.plot(np.bincount(depths)/(0.01*len(depths)))\n",
      "plt.ylabel('Occurance Percent')\n",
      "plt.xlabel('Bin Number')\n",
      "plt.xlim([1,len(np.unique(depths))])\n",
      "\n"
     ],
     "language": "python",
     "metadata": {},
     "outputs": [
      {
       "output_type": "stream",
       "stream": "stdout",
       "text": [
        "['1' '10' '11' '12' '13' '14' '15' '16' '2' '3' '4' '5' '6' '7' '8' '9']\n",
        "total lines:  292752\n",
        "total lines per class: 18297\n",
        "(96244,)"
       ]
      },
      {
       "output_type": "stream",
       "stream": "stdout",
       "text": [
        "\n"
       ]
      },
      {
       "metadata": {},
       "output_type": "pyout",
       "prompt_number": 62,
       "text": [
        "(1, 16)"
       ]
      },
      {
       "metadata": {},
       "output_type": "display_data",
       "png": "[encoded data removed]",
       "text": [
        "<matplotlib.figure.Figure at 0x7fdb56aeef90>"
       ]
      }
     ],
     "prompt_number": 62
    },
    {
     "cell_type": "code",
     "collapsed": false,
     "input": [
      "# Append path name to index file (caffe can't figure that shit out)\n",
      "\n",
      "import csv\n",
      "inp_file='/home/vlf/Projects/DepthPrediction/train/NYUv2/train_full_167_v2/index_16.txt'\n",
      "out_file='/home/vlf/Projects/DepthPrediction/train/NYUv2/train_full_167_v2/index_16_fullpath.txt'\n",
      "modpath='/home/vlf/Projects/DepthPrediction/train/NYUv2/train_full_167_v2/'\n",
      "f = open(inp_file,'r')\n",
      "o = open(out_file,'w')\n",
      "\n",
      "csvf = csv.reader(f)\n",
      "\n",
      "for row in csvf:\n",
      "    tmp = row[0].split(' ',1)\n",
      "    o.write(modpath + tmp[0] + ' ' + tmp[1] + '\\n')\n"
     ],
     "language": "python",
     "metadata": {},
     "outputs": [],
     "prompt_number": 52
    }
   ],
   "metadata": {}
  }
 ]
}