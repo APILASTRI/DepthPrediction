{
 "metadata": {
  "name": "",
  "signature": "sha256:02ef463edc4dcb332645951cea50c9856787d295555c470898b9cf25850b5dfd"
 },
 "nbformat": 3,
 "nbformat_minor": 0,
 "worksheets": [
  {
   "cells": [
    {
     "cell_type": "code",
     "collapsed": false,
     "input": [
      "import numpy as np\n",
      "import sys\n",
      "import matplotlib.pyplot as plt\n",
      "%matplotlib inline\n",
      "#%load_ext autoreload\n",
      "%reload_ext autoreload\n",
      "%autoreload 2\n",
      "\n",
      "from image_handling import load_dataset\n",
      "from image_handling import segment_image"
     ],
     "language": "python",
     "metadata": {},
     "outputs": [],
     "prompt_number": []
    },
    {
     "cell_type": "code",
     "collapsed": false,
     "input": [
      "[images, depths] = load_dataset('nyu_depth_v2_labeled.mat')"
     ],
     "language": "python",
     "metadata": {},
     "outputs": [],
     "prompt_number": []
    },
    {
     "cell_type": "code",
     "collapsed": false,
     "input": [
      "n = 1030\n",
      "test_image = np.array(images[n, ...])\n",
      "test_image\n",
      "mask = segment_image(test_image, no_segments=300)\n",
      "from skimage.segmentation import mark_boundaries\n",
      "fig1 = plt.figure()\n",
      "axes1 = fig1.add_axes([0.1, 0.1, 0.8, 0.8])\n",
      "axes1.imshow(np.transpose(mark_boundaries(np.transpose(test_image, (1,2,0)) , mask), (1, 0, 2)))"
     ],
     "language": "python",
     "metadata": {},
     "outputs": [],
     "prompt_number": []
    },
    {
     "cell_type": "code",
     "collapsed": false,
     "input": [
      "from image_handling import calculate_sp_centroids\n",
      "\n",
      "centroids = calculate_sp_centroids(mask)\n",
      "\n",
      "print centroids.shape\n",
      "center_pixels = np.array(centroids, dtype=int)\n",
      "\n",
      "fig2 = plt.figure()\n",
      "axes2 = fig2.add_axes([0.1, 0.1, 0.8, 0.8])\n",
      "axes2.plot(centroids[0,:], centroids[1, :], '.')\n"
     ],
     "language": "python",
     "metadata": {},
     "outputs": [],
     "prompt_number": []
    },
    {
     "cell_type": "code",
     "collapsed": false,
     "input": [
      "from image_handling import gather_regions\n",
      "\n",
      "sections = gather_regions(test_image, centroids, x_window_size=40, y_window_size=40)\n",
      "\n",
      "fig3 = plt.figure()\n",
      "axes3 = fig3.add_axes([0.1, 0.1, 0.8, 0.8])\n",
      "axes3.imshow(sections[299, ...].transpose())"
     ],
     "language": "python",
     "metadata": {},
     "outputs": [],
     "prompt_number": []
    },
    {
     "cell_type": "code",
     "collapsed": false,
     "input": [
      "from image_handling import load_dataset_segments\n",
      "\n",
      "[image_segs, depth_segs] = load_dataset_segments('nyu_depth_v2_labeled.mat',\n",
      "                                                 images=(1020,),\n",
      "                                                 no_superpixels=493,\n",
      "                                                 x_window_size=40,\n",
      "                                                 y_window_size=40)\n",
      "\n",
      "print image_segs.shape\n",
      "\n",
      "fig4 = plt.figure()\n",
      "axes4 = fig4.add_axes([0.1, 0.1, 0.8, 0.8])\n",
      "axes4.imshow(image_segs[200, ...].transpose())"
     ],
     "language": "python",
     "metadata": {},
     "outputs": [],
     "prompt_number": []
    },
    {
     "cell_type": "code",
     "collapsed": false,
     "input": [
      "from image_handling import create_segments_dataset\n",
      "data_file = create_segments_dataset('nyu_depth_v2_labeled.mat', 'extracted_segments.mat',\n",
      "                no_superpixels=700, x_window_size=227, y_window_size=227, images=(1020,))"
     ],
     "language": "python",
     "metadata": {},
     "outputs": [],
     "prompt_number": []
    },
    {
     "cell_type": "code",
     "collapsed": false,
     "input": [
      "depths_min = np.min(depths)\n",
      "depths_max = np.max(depths)"
     ],
     "language": "python",
     "metadata": {},
     "outputs": [],
     "prompt_number": []
    },
    {
     "cell_type": "code",
     "collapsed": false,
     "input": [
      "print depths_min, depths_max\n",
      "depth_cuts = np.logspace(np.log(depths_min), np.log(depths_max), num=20, base=np.e)"
     ],
     "language": "python",
     "metadata": {},
     "outputs": [],
     "prompt_number": []
    },
    {
     "cell_type": "code",
     "collapsed": false,
     "input": [
      "from image_handling import log_pixelate_values\n",
      "n = 1304\n",
      "log_pixelated_image = log_pixelate_values(depths[n,...], depths_min, depths_max, 32)\n",
      "\n",
      "fig5 = plt.figure()\n",
      "axes5 = fig5.add_axes([0.1, 0.1, 0.8, 0.8])\n",
      "axes6 = fig5.add_axes([1, 0.1, 0.8, 0.8])\n",
      "axes5.imshow(depths[n,...].transpose())\n",
      "axes6.imshow(log_pixelated_image.transpose())"
     ],
     "language": "python",
     "metadata": {},
     "outputs": [],
     "prompt_number": []
    },
    {
     "cell_type": "code",
     "collapsed": false,
     "input": [
      "log_pixelated_image = log_pixelate_values(depths, depths_min, depths_max, 512)\n",
      "\n",
      "n = 1304\n",
      "fig5 = plt.figure()\n",
      "axes5 = fig5.add_axes([0.1, 0.1, 0.8, 0.8])\n",
      "axes6 = fig5.add_axes([1, 0.1, 0.8, 0.8])\n",
      "axes5.imshow(depths[n,...].transpose())\n",
      "axes6.imshow(log_pixelated_image[n,...].transpose())"
     ],
     "language": "python",
     "metadata": {},
     "outputs": [],
     "prompt_number": []
    },
    {
     "cell_type": "code",
     "collapsed": false,
     "input": [
      "%time log_pixelate_values(depths, depths_min, depths_max, 16)"
     ],
     "language": "python",
     "metadata": {},
     "outputs": [],
     "prompt_number": []
    },
    {
     "cell_type": "code",
     "collapsed": false,
     "input": [
      "%lprun -f load_dataset_segments load_dataset_segments('nyu_depth_v2_labeled.mat', images=1, no_superpixels=300, x_window_size=40, y_window_size=40)"
     ],
     "language": "python",
     "metadata": {},
     "outputs": [],
     "prompt_number": []
    },
    {
     "cell_type": "code",
     "collapsed": false,
     "input": [
      "pixels = np.unique(mask)\n",
      "\n",
      "# pixel_com = np.tile(pixels, [mask.shape[0], mask.shape[1], 1])\n",
      "# mask_com = np.tile(mask, [len(pixels), 1, 1]).transpose(1, 2, 0)\n",
      "# com_mat = mask_com == pixel_com\n",
      "counts = com_mat.sum(axis=(0,1))\n",
      "\n",
      "#weight_x = np.tile(range(0, mask.shape[0]), [len(pixels), mask.shape[1], 1]).transpose(2, 1, 0)\n",
      "weight_x = np.tile(range(0, mask.shape[0]), [len(pixels), 1]).transpose()\n",
      "print weight_x.shape\n",
      "\n",
      "weight_y = np.tile(range(0, mask.shape[1]), [len(pixels), 1]).transpose()\n",
      "print weight_y.shape\n",
      "\n",
      "# print pixel_com.shape\n",
      "# print mask_com.shape\n",
      "# print com_mat.shape\n",
      "\n",
      "\n",
      "\n",
      "print (com_mat.sum(axis=1)).shape\n",
      "print (com_mat.sum(axis=0)).shape\n",
      "# print (com_mat * weight_x).shape\n",
      "\n",
      "x_centroids = ((com_mat.sum(axis=1) * weight_x).sum(0) / counts)\n",
      "y_centroids = ((com_mat.sum(axis=0) * weight_y).sum(0) / counts)\n",
      "centroids = np.vstack((x_centroids, y_centroids))\n"
     ],
     "language": "python",
     "metadata": {},
     "outputs": [],
     "prompt_number": []
    },
    {
     "cell_type": "code",
     "collapsed": false,
     "input": [
      "print depths.shape"
     ],
     "language": "python",
     "metadata": {},
     "outputs": [],
     "prompt_number": []
    },
    {
     "cell_type": "code",
     "collapsed": false,
     "input": [
      "average_image = np.average(images, axis=0)\n",
      "average_depth = np.average(depths, axis=0)"
     ],
     "language": "python",
     "metadata": {},
     "outputs": [],
     "prompt_number": []
    },
    {
     "cell_type": "code",
     "collapsed": false,
     "input": [
      "from image_handling import log_pixelate_values\n",
      "log_pixelated_average_depth = log_pixelate_values(average_depth, depths_min, depths_max, 16)\n",
      "\n",
      "np.save('average_image', average_image)\n",
      "np.save('average_depth', average_depth)\n",
      "\n",
      "fig7, axes7 = plt.subplots(1, 3, figsize=(14,6), dpi=800)\n",
      "\n",
      "axes7[0].imshow(average_image.transpose())\n",
      "axes7[1].imshow(average_depth.transpose())\n",
      "axes7[2].imshow(log_pixelated_average_depth.transpose())\n",
      "\n",
      "axes7[0].set_title('Average Color Image')\n",
      "axes7[1].set_title('Average Depth Image')\n",
      "axes7[2].set_title('Log Pixelated (n=16) Depth')\n",
      "\n",
      "fig7.savefig('average_images.pdf')"
     ],
     "language": "python",
     "metadata": {},
     "outputs": [],
     "prompt_number": []
    },
    {
     "cell_type": "code",
     "collapsed": false,
     "input": [
      "from image_handling import load_dataset_segments\n",
      "from image_handling import apply_depths\n",
      "\n",
      "image_segs, depth_segs, masks = load_dataset_segments('nyu_depth_v2_labeled.mat',\n",
      "                                                 images=(1020,),\n",
      "                                                 no_superpixels=200,\n",
      "                                                 x_window_size=114,\n",
      "                                                 y_window_size=114)\n",
      "\n",
      "\n",
      "pixelate_depth_image = apply_depths(depth_segs, np.squeeze(masks))\n",
      "\n",
      "fig4 = plt.figure()\n",
      "axes4 = fig4.add_axes([0.1, 0.1, 0.8, 0.8])\n",
      "axes4.imshow(pixelate_depth_image.transpose())"
     ],
     "language": "python",
     "metadata": {},
     "outputs": [],
     "prompt_number": []
    },
    {
     "cell_type": "code",
     "collapsed": false,
     "input": [],
     "language": "python",
     "metadata": {},
     "outputs": [],
     "prompt_number": []
    },
    {
     "cell_type": "code",
     "collapsed": false,
     "input": [],
     "language": "python",
     "metadata": {},
     "outputs": [],
     "prompt_number": []
    }
   ],
   "metadata": {}
  }
 ]
}