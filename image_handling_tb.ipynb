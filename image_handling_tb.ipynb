{
 "metadata": {
  "name": "",
  "signature": "sha256:02ef463edc4dcb332645951cea50c9856787d295555c470898b9cf25850b5dfd"
 },
 "nbformat": 3,
 "nbformat_minor": 0,
 "worksheets": [
  {
   "cells": [
    {
     "cell_type": "code",
     "collapsed": false,
     "input": [
      "import numpy as np\n",
      "import sys\n",
      "import matplotlib.pyplot as plt\n",
      "%matplotlib inline\n",
      "#%load_ext autoreload\n",
      "%reload_ext autoreload\n",
      "%autoreload 2\n",
      "\n",
      "from image_handling import *\n",
      "from skimage.feature import local_binary_pattern"
     ],
     "language": "python",
     "metadata": {},
     "outputs": [],
     "prompt_number": []
    },
    {
     "cell_type": "code",
     "collapsed": false,
     "input": [
      "[images, depths] = load_dataset('nyu_depth_v2_labeled.mat')"
     ],
     "language": "python",
     "metadata": {},
     "outputs": [],
     "prompt_number": []
    },
    {
     "cell_type": "code",
     "collapsed": false,
     "input": [
      "n = 1030\n",
      "test_image = np.array(images[n, ...])\n",
      "test_depths = np.array(depths[n, ...])\n",
      "mask = segment_image(test_image, no_segments=300)\n",
      "from skimage.segmentation import mark_boundaries\n",
      "fig1 = plt.figure()\n",
      "axes1 = fig1.add_axes([0.1, 0.1, 0.8, 0.8])\n",
      "axes1.imshow(np.transpose(mark_boundaries(np.transpose(test_image, (1,2,0)) , mask), (1, 0, 2)))\n",
      "fig1.savefig('slic_segmentation.pdf')"
     ],
     "language": "python",
     "metadata": {},
     "outputs": [],
     "prompt_number": []
    },
    {
     "cell_type": "code",
     "collapsed": false,
     "input": [
      "\n",
      "\n",
      "centroids = calculate_sp_centroids(mask)\n",
      "\n",
      "print centroids.shape\n",
      "center_pixels = np.array(centroids, dtype=int)\n",
      "\n",
      "fig2 = plt.figure()\n",
      "axes2 = fig2.add_axes([0.1, 0.1, 0.8, 0.8])\n",
      "axes2.plot(centroids[0,:], centroids[1, :], '.')\n"
     ],
     "language": "python",
     "metadata": {},
     "outputs": [],
     "prompt_number": []
    },
    {
     "cell_type": "code",
     "collapsed": false,
     "input": [
      "sections = gather_regions(test_image, centroids, x_window_size=84, y_window_size=84)\n",
      "\n",
      "fig3, axes3 = plt.subplots(2, 2, figsize=(10,10), dpi=800)\n",
      "axes3[0,0].imshow(sections[0, ...].transpose())\n",
      "axes3[0,1].imshow(sections[180, ...].transpose())\n",
      "axes3[1,0].imshow(sections[11, ...].transpose())\n",
      "axes3[1,1].imshow(sections[-1, ...].transpose())\n",
      "fig3.savefig('zero_padding_test.pdf')"
     ],
     "language": "python",
     "metadata": {},
     "outputs": [],
     "prompt_number": []
    },
    {
     "cell_type": "code",
     "collapsed": false,
     "input": [
      "# [image_segs, depth_segs, masks] = load_dataset_segments('nyu_depth_v2_labeled.mat',\n",
      "#                                                         images=(1020,),\n",
      "#                                                         no_superpixels=493,\n",
      "#                                                         x_window_size=40,\n",
      "#                                                         y_window_size=40)\n",
      "\n",
      "# print image_segs.shape\n",
      "\n",
      "# fig4 = plt.figure()\n",
      "# axes4 = fig4.add_axes([0.1, 0.1, 0.8, 0.8])\n",
      "# axes4.imshow(image_segs[200, ...].transpose())"
     ],
     "language": "python",
     "metadata": {},
     "outputs": [],
     "prompt_number": []
    },
    {
     "cell_type": "code",
     "collapsed": false,
     "input": [
      "# from image_handling import create_segments_dataset\n",
      "# data_file = create_segments_dataset('nyu_depth_v2_labeled.mat', 'extracted_segments.mat',\n",
      "#                 no_superpixels=700, x_window_size=227, y_window_size=227, images=(1020,))"
     ],
     "language": "python",
     "metadata": {},
     "outputs": [],
     "prompt_number": []
    },
    {
     "cell_type": "code",
     "collapsed": false,
     "input": [
      "depths_min = np.min(depths)\n",
      "depths_max = np.max(depths)"
     ],
     "language": "python",
     "metadata": {},
     "outputs": [],
     "prompt_number": []
    },
    {
     "cell_type": "code",
     "collapsed": false,
     "input": [
      "print depths_min, depths_max\n",
      "depth_cuts = np.logspace(np.log(depths_min), np.log(depths_max), num=20, base=np.e)"
     ],
     "language": "python",
     "metadata": {},
     "outputs": [],
     "prompt_number": []
    },
    {
     "cell_type": "code",
     "collapsed": false,
     "input": [
      "n = 1304\n",
      "log_pixelated_image = log_pixelate_values(depths[n,...], depths_min, depths_max, 16)\n",
      "\n",
      "fig5, axes5 = plt.subplots(1, 3, figsize=(14,6), dpi=800)\n",
      "axes5[0].imshow(images[n,...].transpose())\n",
      "axes5[1].imshow(depths[n,...].transpose())\n",
      "axes5[2].imshow(log_pixelated_image.transpose())\n",
      "fig5.savefig('image_and_depth.pdf')"
     ],
     "language": "python",
     "metadata": {},
     "outputs": [],
     "prompt_number": []
    },
    {
     "cell_type": "code",
     "collapsed": false,
     "input": [
      "average_image = np.average(images, axis=0)\n",
      "average_depth = np.average(depths, axis=0)"
     ],
     "language": "python",
     "metadata": {},
     "outputs": [],
     "prompt_number": []
    },
    {
     "cell_type": "code",
     "collapsed": false,
     "input": [
      "log_pixelated_average_depth = log_pixelate_values(average_depth, depths_min, depths_max, 16)\n",
      "\n",
      "np.save('average_image', average_image)\n",
      "np.save('average_depth', average_depth)\n",
      "\n",
      "fig7, axes7 = plt.subplots(1, 3, figsize=(14,6), dpi=800)\n",
      "\n",
      "axes7[0].imshow(average_image.transpose())\n",
      "axes7[1].imshow(average_depth.transpose())\n",
      "axes7[2].imshow(log_pixelated_average_depth.transpose())\n",
      "\n",
      "axes7[0].set_title('Average Color Image')\n",
      "axes7[1].set_title('Average Depth Image')\n",
      "axes7[2].set_title('Log Pixelated (n=16) Depth')\n",
      "\n",
      "fig7.savefig('average_images.pdf')"
     ],
     "language": "python",
     "metadata": {},
     "outputs": [],
     "prompt_number": []
    },
    {
     "cell_type": "code",
     "collapsed": false,
     "input": [
      "n = 1010\n",
      "image_segs, depth_segs, masks = load_dataset_segments('nyu_depth_v2_labeled.mat',\n",
      "                                                 images=(n,),\n",
      "                                                 no_superpixels=200,\n",
      "                                                 x_window_size=114,\n",
      "                                                 y_window_size=114)\n",
      "\n",
      "n_bins = 16\n",
      "log_depth_segs = log_pixelate_values(depth_segs, depths_min, depths_max, n_bins)\n",
      "\n",
      "#pixelate_depth_image = apply_depths(depth_segs, np.squeeze(masks))\n",
      "pixelate_depth_image = apply_depths(log_depth_segs, np.squeeze(masks))\n",
      "\n",
      "fig8, axes8 = plt.subplots(1, 3, figsize=(14,6), dpi=800)\n",
      "\n",
      "axes8[0].imshow((depths[n, ...] / depths_max).transpose())\n",
      "axes8[1].imshow((pixelate_depth_image.astype(float) / n_bins).transpose())\n",
      "axes8[2].imshow(images[n, ...].transpose())"
     ],
     "language": "python",
     "metadata": {},
     "outputs": [],
     "prompt_number": []
    },
    {
     "cell_type": "code",
     "collapsed": false,
     "input": [
      "n = 999\n",
      "mask = segment_image(images[n, ...], no_segments=200)\n",
      "centroids = calculate_sp_centroids(mask)\n",
      "\n",
      "edges = find_neighbors(mask)\n",
      "            \n",
      "fig10 = plt.figure()\n",
      "axes10 = fig10.add_axes([0, 0, 1, 1])\n",
      "axes10.imshow(np.transpose(mark_boundaries(np.transpose(images[n, ...], (1,2,0)) , mask), (1, 0, 2)))\n",
      "\n",
      "for edge in edges:\n",
      "    axes10.plot((centroids[0, edge[0]], centroids[0, edge[1]]),\n",
      "               (centroids[1, edge[0]], centroids[1, edge[1]]),\n",
      "               color='k', linestyle='-', linewidth=0.5)\n",
      "    \n",
      "fig10.savefig('super_pixel_neighbor.pdf')"
     ],
     "language": "python",
     "metadata": {},
     "outputs": [],
     "prompt_number": []
    },
    {
     "cell_type": "code",
     "collapsed": false,
     "input": [
      "nbins = 16\n",
      "lin_bin_edges = np.linspace(depths_min, depths_max, nbins+1)\n",
      "log_bin_edges = np.logspace(np.log(depths_min), np.log(depths_max), num=nbins+1, base=np.e)\n",
      "\n",
      "depth_array = np.array(depths[:])\n",
      "\n",
      "lin_digitized = np.digitize(depth_array.flatten(), lin_bin_edges)\n",
      "log_digitized = np.digitize(depth_array.flatten(), log_bin_edges)\n",
      "lin_hist_n, lin_hist_c = np.histogram(lin_digitized, nbins, density=True)\n",
      "log_hist_n, log_hist_c = np.histogram(log_digitized, nbins, density=True)"
     ],
     "language": "python",
     "metadata": {},
     "outputs": [],
     "prompt_number": []
    },
    {
     "cell_type": "code",
     "collapsed": false,
     "input": [
      "index_bar = np.array(range(0, nbins))\n",
      "fig11, axes11 = plt.subplots(1, 1, figsize=(14,6), dpi=800)\n",
      "axes11.bar(index_bar, log_hist_n, color='r', alpha=1, label='Linear Spacing')\n",
      "axes11.bar(index_bar, lin_hist_n, color='b', alpha=0.6, label='Log Spacing')\n",
      "axes11.legend()\n",
      "axes11.set_xlabel('Bin Index')\n",
      "axes11.set_ylabel('Probability')\n",
      "fig11.savefig('lin_v_log_spacing_16bins.pdf')"
     ],
     "language": "python",
     "metadata": {},
     "outputs": [],
     "prompt_number": []
    },
    {
     "cell_type": "code",
     "collapsed": false,
     "input": [
      "\n",
      "def non_degenerate_rand_index(low, high, num_vals):\n",
      "    indices = np.unique(np.random.randint(low, high, num_vals))\n",
      "    while len(indices) < num_vals:\n",
      "        indices = np.unique(np.hstack(\n",
      "                    (indices,\n",
      "                    non_degenerate_rand_index(low, high, num_vals - len(indices)))))\n",
      "    return indices\n",
      "\n",
      "non_degenerate_rand_index(0, 30, 10)"
     ],
     "language": "python",
     "metadata": {},
     "outputs": [],
     "prompt_number": []
    },
    {
     "cell_type": "code",
     "collapsed": false,
     "input": [
      "gather_depths_test = gather_depths(test_depths, centroids=centroids, mask=mask, x_window_size=84, y_window_size=84, depth_type=1)"
     ],
     "language": "python",
     "metadata": {},
     "outputs": [],
     "prompt_number": []
    },
    {
     "cell_type": "code",
     "collapsed": false,
     "input": [
      "test_histograms = hist_colors(test_image)\n",
      "index_bar = np.array(range(0, 256))\n",
      "\n",
      "fig12, axes12 = plt.subplots(1, 1, figsize=(14,6), dpi=800)\n",
      "axes12.bar(index_bar, test_histograms[0,:] / np.sum(test_histograms[0,:]), color='r', alpha=0.5, label='Red')\n",
      "axes12.bar(index_bar, test_histograms[1,:] / np.sum(test_histograms[1,:]), color='g', alpha=0.5, label='Green')\n",
      "axes12.bar(index_bar, test_histograms[2,:] / np.sum(test_histograms[2,:]), color='b', alpha=0.5, label='Blue')\n",
      "axes12.legend(loc=2)\n",
      "axes12.set_xlabel('Colour Intensity')\n",
      "axes12.set_ylabel('Probability Mass Estimate')\n",
      "axes12.set_xlim((np.min(index_bar), 256))\n",
      "fig12.savefig('color_historam_demo.pdf')\n"
     ],
     "language": "python",
     "metadata": {},
     "outputs": [],
     "prompt_number": []
    },
    {
     "cell_type": "code",
     "collapsed": false,
     "input": [
      "lbp_test = local_binary_pattern(np.average(test_image, axis=0), 8, 8)\n",
      "\n",
      "fig13, axes13 = plt.subplots(1, 2, figsize=(14,6), dpi=800)\n",
      "axes13[0].imshow(test_image.transpose())\n",
      "axes13[1].imshow(lbp_test.transpose())"
     ],
     "language": "python",
     "metadata": {},
     "outputs": [],
     "prompt_number": []
    },
    {
     "cell_type": "code",
     "collapsed": false,
     "input": [
      "no_sections = len(sections)\n",
      "lbp_similarities = np.zeros((no_sections,))\n",
      "colorhist_similarities = np.zeros((no_sections,))\n",
      "color_similarities = np.zeros((no_sections,))\n",
      "\n",
      "n = 100\n",
      "\n",
      "for ii in range(0, no_sections):\n",
      "    color_similarities[ii] = logistic_color_diff(sections[n, ...], sections[ii, ...], gamma=4e-5)\n",
      "    colorhist_similarities[ii] = logistic_color_hist_diff(sections[n, ...], sections[ii, ...], gamma=1e-4)\n",
      "    lbp_similarities[ii] = logistic_lbp_diff(sections[n, ...], sections[ii, ...], gamma=1e-3, points=4, radius=2)\n",
      "\n",
      "fig14, axes14 = plt.subplots(1, 1, figsize=(14,6), dpi=800)\n",
      "axes14.plot(range(0, no_sections), color_similarities, 'b', label='Color Distance')\n",
      "axes14.plot(range(0, no_sections), colorhist_similarities, 'r', label='Color Histogram Distance')\n",
      "axes14.plot(range(0, no_sections), lbp_similarities, 'k', label='Local Binary Pattern Distance')\n",
      "axes14.legend()\n",
      "fig14.savefig('distance_metric_output.pdf')\n"
     ],
     "language": "python",
     "metadata": {},
     "outputs": [],
     "prompt_number": []
    },
    {
     "cell_type": "code",
     "collapsed": false,
     "input": [
      "distances = pairwise_distance_matrices(sections, edges)\n",
      "\n",
      "fig15, axes15 = plt.subplots(1, 3, figsize=(14,6), dpi=800)\n",
      "axes15[0].imshow(distances[0, ...])\n",
      "axes15[0].set_title('Color Distances')\n",
      "axes15[1].imshow(distances[1, ...])\n",
      "axes15[1].set_title('Color Histogram Distances')\n",
      "axes15[2].imshow(distances[2, ...])\n",
      "axes15[2].set_title('LBP Distances')\n",
      "fig15.savefig('Neighboring Distances')"
     ],
     "language": "python",
     "metadata": {},
     "outputs": [],
     "prompt_number": []
    },
    {
     "cell_type": "code",
     "collapsed": false,
     "input": [],
     "language": "python",
     "metadata": {},
     "outputs": [],
     "prompt_number": []
    }
   ],
   "metadata": {}
  }
 ]
}